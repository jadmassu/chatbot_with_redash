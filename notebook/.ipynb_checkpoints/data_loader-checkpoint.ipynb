{
 "cells": [
  {
   "cell_type": "code",
   "execution_count": 1,
   "id": "23e6e0bb-6ab2-4ce8-9ed1-5d5acf9b7230",
   "metadata": {
    "tags": []
   },
   "outputs": [],
   "source": [
    "%reload_ext autoreload\n",
    "%autoreload 2\n"
   ]
  },
  {
   "cell_type": "code",
   "execution_count": 3,
   "id": "77ae875d-ba85-4baf-8db0-b0af48dd6c58",
   "metadata": {
    "tags": []
   },
   "outputs": [],
   "source": [
    "import os, sys\n",
    "import re\n",
    "import json\n",
    "import glob\n",
    "import datetime\n",
    "from collections import Counter\n",
    "\n",
    "import pandas as pd\n",
    "from matplotlib import pyplot as plt\n",
    "import seaborn as sns\n",
    "\n",
    "from nltk.corpus import stopwords\n"
   ]
  },
  {
   "cell_type": "code",
   "execution_count": 6,
   "id": "770849f3-b9c7-4762-8f1d-1a78d394bc7e",
   "metadata": {
    "tags": []
   },
   "outputs": [],
   "source": [
    "rpath = os.path.abspath('/home/user/Documents/10/w3/chatbot_with_redash')\n",
    "\n",
    "if rpath not in sys.path:\n",
    "    sys.path.insert(0, rpath)"
   ]
  },
  {
   "cell_type": "code",
   "execution_count": 10,
   "id": "a5cc9679-9721-4cf2-b6e9-f906f2a76943",
   "metadata": {
    "tags": []
   },
   "outputs": [],
   "source": [
    "import scripts.db_access as db"
   ]
  },
  {
   "cell_type": "code",
   "execution_count": null,
   "id": "40ff7d7b-ed7b-40cd-a089-c7fd39d47ce7",
   "metadata": {},
   "outputs": [],
   "source": [
    "connection = {\n",
    "    'dbname': 'youtube',\n",
    "    'user': 'user',\n",
    "    'password': 'user',\n",
    "    'host': 'localhost',\n",
    "}"
   ]
  }
 ],
 "metadata": {
  "kernelspec": {
   "display_name": "Python 3 (ipykernel)",
   "language": "python",
   "name": "python3"
  },
  "language_info": {
   "codemirror_mode": {
    "name": "ipython",
    "version": 3
   },
   "file_extension": ".py",
   "mimetype": "text/x-python",
   "name": "python",
   "nbconvert_exporter": "python",
   "pygments_lexer": "ipython3",
   "version": "3.11.7"
  }
 },
 "nbformat": 4,
 "nbformat_minor": 5
}
