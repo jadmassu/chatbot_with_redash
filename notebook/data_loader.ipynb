{
 "cells": [
  {
   "cell_type": "code",
   "execution_count": 1,
   "id": "23e6e0bb-6ab2-4ce8-9ed1-5d5acf9b7230",
   "metadata": {
    "tags": []
   },
   "outputs": [],
   "source": [
    "%reload_ext autoreload\n",
    "%autoreload 2\n"
   ]
  },
  {
   "cell_type": "code",
   "execution_count": 3,
   "id": "77ae875d-ba85-4baf-8db0-b0af48dd6c58",
   "metadata": {
    "tags": []
   },
   "outputs": [],
   "source": [
    "import os, sys\n",
    "import re\n",
    "import json\n",
    "import glob\n",
    "import datetime\n",
    "from collections import Counter\n",
    "\n",
    "import pandas as pd\n",
    "from matplotlib import pyplot as plt\n",
    "import seaborn as sns\n",
    "\n",
    "from nltk.corpus import stopwords\n"
   ]
  },
  {
   "cell_type": "code",
   "execution_count": 6,
   "id": "770849f3-b9c7-4762-8f1d-1a78d394bc7e",
   "metadata": {
    "tags": []
   },
   "outputs": [],
   "source": [
    "rpath = os.path.abspath('/home/user/Documents/10/w3/chatbot_with_redash')\n",
    "\n",
    "if rpath not in sys.path:\n",
    "    sys.path.insert(0, rpath)"
   ]
  },
  {
   "cell_type": "code",
   "execution_count": 10,
   "id": "a5cc9679-9721-4cf2-b6e9-f906f2a76943",
   "metadata": {
    "tags": []
   },
   "outputs": [],
   "source": [
    "import scripts.db_access as db"
   ]
  },
  {
   "cell_type": "code",
   "execution_count": 12,
   "id": "40ff7d7b-ed7b-40cd-a089-c7fd39d47ce7",
   "metadata": {
    "tags": []
   },
   "outputs": [],
   "source": [
    "connection = {\n",
    "    'dbname': 'youtube',\n",
    "    'user': 'user',\n",
    "    'password': 'user',\n",
    "    'host': 'localhost',\n",
    "}"
   ]
  },
  {
   "cell_type": "code",
   "execution_count": 14,
   "id": "281f29da-bf5b-4728-bcfe-c869ea7f80ce",
   "metadata": {
    "tags": []
   },
   "outputs": [
    {
     "name": "stdout",
     "output_type": "stream",
     "text": [
      "CONNECTED\n"
     ]
    },
    {
     "data": {
      "text/plain": [
       "<connection object at 0x75c11268c040; dsn: 'user=user password=xxx dbname=youtube host=localhost', closed: 0>"
      ]
     },
     "execution_count": 14,
     "metadata": {},
     "output_type": "execute_result"
    }
   ],
   "source": [
    "db.connect_to_database(connection)"
   ]
  },
  {
   "cell_type": "code",
   "execution_count": 16,
   "id": "37fab535-4a63-4a1c-a631-3e926c7c1ab7",
   "metadata": {
    "tags": []
   },
   "outputs": [],
   "source": [
    "directory = '/home/user/Documents/10/w3/chatbot_with_redash/data'"
   ]
  },
  {
   "cell_type": "code",
   "execution_count": 20,
   "id": "6619f4b4-51d3-41ac-8b58-45c82757343a",
   "metadata": {
    "tags": []
   },
   "outputs": [],
   "source": [
    "db.traverse_directory(connection,directory)"
   ]
  },
  {
   "cell_type": "code",
   "execution_count": null,
   "id": "31f522f8-baa8-46f0-a23f-6d3eb00713c8",
   "metadata": {},
   "outputs": [],
   "source": []
  }
 ],
 "metadata": {
  "kernelspec": {
   "display_name": "Python 3 (ipykernel)",
   "language": "python",
   "name": "python3"
  },
  "language_info": {
   "codemirror_mode": {
    "name": "ipython",
    "version": 3
   },
   "file_extension": ".py",
   "mimetype": "text/x-python",
   "name": "python",
   "nbconvert_exporter": "python",
   "pygments_lexer": "ipython3",
   "version": "3.11.7"
  }
 },
 "nbformat": 4,
 "nbformat_minor": 5
}
